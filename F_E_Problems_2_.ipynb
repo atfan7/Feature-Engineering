{
  "nbformat": 4,
  "nbformat_minor": 0,
  "metadata": {
    "colab": {
      "provenance": [],
      "authorship_tag": "ABX9TyOeXvr4+9jWrT6sTt7F2Xge",
      "include_colab_link": true
    },
    "kernelspec": {
      "name": "python3",
      "display_name": "Python 3"
    },
    "language_info": {
      "name": "python"
    }
  },
  "cells": [
    {
      "cell_type": "markdown",
      "metadata": {
        "id": "view-in-github",
        "colab_type": "text"
      },
      "source": [
        "<a href=\"https://colab.research.google.com/github/atfan7/Feature-Engineering/blob/main/F_E_Problems_2_.ipynb\" target=\"_parent\"><img src=\"https://colab.research.google.com/assets/colab-badge.svg\" alt=\"Open In Colab\"/></a>"
      ]
    },
    {
      "cell_type": "markdown",
      "source": [
        "Q1:: In the loan.csv dataset, we wish to test the hypothesis that the loan amount payable per year is different for women and unmarried men.\n",
        "\n",
        "To do so, first define a new feature called 'Loan_Amount_per_year' using the formula 'LoanAmount' / 'Loan_Amount_Term'.\n",
        "\n",
        "Next, define group1 as the women loan applicants, and group2 as the unmarried male applicants. Print out their variances.\n",
        "\n",
        "Perform a Levene test using the median as the center to check whether the variances of the two groups are significantly different.\n",
        "\n",
        "Next, apply the t-test to check whether the average loan amount payable is significantly different for the two groups. What interpretations can be drawn from the tests conducted?\n",
        "\n",
        "Note: Assume the significance level to be 5%.\n"
      ],
      "metadata": {
        "id": "f5VVva0C5UG_"
      }
    },
    {
      "cell_type": "code",
      "source": [
        "import numpy as np\n",
        "import pandas as pd\n",
        "from scipy.stats import levene, ttest_ind"
      ],
      "metadata": {
        "id": "MH_Ci_3n5e3-"
      },
      "execution_count": 1,
      "outputs": []
    },
    {
      "cell_type": "code",
      "source": [
        "data = pd.read_csv(\"https://d2beiqkhq929f0.cloudfront.net/public_assets/assets/000/018/746/original/loan.csv?1666170299.csv\")"
      ],
      "metadata": {
        "id": "cHIOCw5w-rDx"
      },
      "execution_count": 2,
      "outputs": []
    },
    {
      "cell_type": "code",
      "source": [
        "data['Loan_Amount_per_year'] = data['LoanAmount'] / data['Loan_Amount_Term']"
      ],
      "metadata": {
        "id": "w7Gqlp47-tUl"
      },
      "execution_count": 3,
      "outputs": []
    },
    {
      "cell_type": "code",
      "source": [
        "group1 = data[(data[\"Gender\"] == \"Male\") & (data[\"Married\"] == \"No\")]['Loan_Amount_per_year']"
      ],
      "metadata": {
        "id": "5PHIE84W-0vM"
      },
      "execution_count": 4,
      "outputs": []
    },
    {
      "cell_type": "code",
      "source": [
        "group2 = data[(data[\"Gender\"] == \"Female\")]['Loan_Amount_per_year']"
      ],
      "metadata": {
        "id": "NbKc31RR-49U"
      },
      "execution_count": 5,
      "outputs": []
    },
    {
      "cell_type": "code",
      "source": [
        "group1 = group1.dropna()\n",
        "group2 = group2.dropna()"
      ],
      "metadata": {
        "id": "Vizfgyof-8vD"
      },
      "execution_count": 6,
      "outputs": []
    },
    {
      "cell_type": "code",
      "source": [
        "print(\"Number of group1 datapoints\", len(group1))\n",
        "print(\"Variance of group1:\",round(np.var(group1),2))\n",
        "print(\"Number of group2 datapoints\", len(group2))\n",
        "print(\"Variance of group2:\",round(np.var(group2),2))\n"
      ],
      "metadata": {
        "colab": {
          "base_uri": "https://localhost:8080/"
        },
        "id": "6UVyHtEM--3S",
        "outputId": "a6f115a6-fc9e-459c-aeee-c949a7a09669"
      },
      "execution_count": 7,
      "outputs": [
        {
          "output_type": "stream",
          "name": "stdout",
          "text": [
            "Number of group1 datapoints 123\n",
            "Variance of group1: 0.11\n",
            "Number of group2 datapoints 106\n",
            "Variance of group2: 0.22\n"
          ]
        }
      ]
    },
    {
      "cell_type": "code",
      "source": [
        "levene_p_value = levene(group1, group2, center='median')[1]\n",
        "print(\"levene test p-value\", round(levene_p_value,2))"
      ],
      "metadata": {
        "colab": {
          "base_uri": "https://localhost:8080/"
        },
        "id": "Al1_eBhz_HMg",
        "outputId": "eafb695f-81f5-4201-b860-951a4cbae790"
      },
      "execution_count": 8,
      "outputs": [
        {
          "output_type": "stream",
          "name": "stdout",
          "text": [
            "levene test p-value 0.87\n"
          ]
        }
      ]
    },
    {
      "cell_type": "code",
      "source": [
        "t_test_p_value = ttest_ind(group1, group2)[1]\n",
        "print(\"t-test p-value:\", round(t_test_p_value,2))"
      ],
      "metadata": {
        "colab": {
          "base_uri": "https://localhost:8080/"
        },
        "id": "ZxwxRNON_I7N",
        "outputId": "4fff7459-d488-4cdf-8cf6-dc8fdb392b33"
      },
      "execution_count": 9,
      "outputs": [
        {
          "output_type": "stream",
          "name": "stdout",
          "text": [
            "t-test p-value: 0.82\n"
          ]
        }
      ]
    },
    {
      "cell_type": "markdown",
      "source": [
        "Q2:: In the loan.csv dataset, we wish to test the hypothesis that among all loan applicants with a Credit_History of 1 who were rejected for a loan, the married group of people applied for a loan amount that is significantly different from the unmarried applicants.\n",
        "\n",
        "To do so, first, define group1 as the married group and group2 as the unmarried group, and retrieve their \"LoanAmount\" details. Drop the columns containing 'nan'.\n",
        "\n",
        "Print out their variances, and perform a Levene test to check whether the variance in the loan amount for the two groups is significantly different.\n",
        "\n",
        "Next, apply the Krushkal test to check if the median loan amount is significantly different for the two groups. What interpretations can you draw from the tests performed?\n",
        "\n",
        "Note: Assume a significance level of 5%."
      ],
      "metadata": {
        "id": "Yjm4phmC_0BX"
      }
    },
    {
      "cell_type": "code",
      "source": [
        "from scipy.stats import kruskal"
      ],
      "metadata": {
        "id": "nMbmG1dE_2hK"
      },
      "execution_count": 10,
      "outputs": []
    },
    {
      "cell_type": "code",
      "source": [
        "target_val = data[(data['Credit_History']==1) & (data['Loan_Status']=='N')]"
      ],
      "metadata": {
        "id": "5lLT1ATR_-uT"
      },
      "execution_count": 11,
      "outputs": []
    },
    {
      "cell_type": "code",
      "source": [
        "group1 = target_val[target_val['Married']=='Yes']['LoanAmount']\n",
        "\n",
        "group2 = target_val[target_val['Married']=='No']['LoanAmount']"
      ],
      "metadata": {
        "id": "-d9Sj21ZAhjR"
      },
      "execution_count": 12,
      "outputs": []
    },
    {
      "cell_type": "code",
      "source": [
        "group1= group1.dropna()\n",
        "group2 =group2.dropna()\n"
      ],
      "metadata": {
        "id": "4ymK7TjZAnAE"
      },
      "execution_count": 13,
      "outputs": []
    },
    {
      "cell_type": "code",
      "source": [
        "print(\"Variance of Married people Loan Amount: \", group1.var())\n",
        "print(\"Variance of Unmarried people Loan Amount: \", group2.var())"
      ],
      "metadata": {
        "colab": {
          "base_uri": "https://localhost:8080/"
        },
        "id": "-i-2swNCApUR",
        "outputId": "590ade36-9a0e-4c9d-8e4f-ce79d82f9504"
      },
      "execution_count": 14,
      "outputs": [
        {
          "output_type": "stream",
          "name": "stdout",
          "text": [
            "Variance of Married people Loan Amount:  10138.54210992908\n",
            "Variance of Unmarried people Loan Amount:  7901.813953488371\n"
          ]
        }
      ]
    },
    {
      "cell_type": "markdown",
      "source": [
        "#levene test\n",
        "# H0: Both the groups variance are significantly identical\n",
        "#Ha: Both the groups variance are significantly different"
      ],
      "metadata": {
        "id": "eXQHHBc0AxPc"
      }
    },
    {
      "cell_type": "code",
      "source": [
        "p_val = levene(group1,group2)[1]\n",
        "print(\"Pvalue of levene test: \", round(p_val,3))\n",
        "if p_val < 0.05:\n",
        "  print(\" Both the groups variance are significantly different\")\n",
        "else:\n",
        "  print(\"Both the groups variance are significantly identical\")"
      ],
      "metadata": {
        "colab": {
          "base_uri": "https://localhost:8080/"
        },
        "id": "m1QyGQ5MAyJS",
        "outputId": "4f9d1407-c1b6-405e-a633-78c753c53057"
      },
      "execution_count": 17,
      "outputs": [
        {
          "output_type": "stream",
          "name": "stdout",
          "text": [
            "Pvalue of levene test:  0.778\n",
            "Both the groups variance are significantly identical\n"
          ]
        }
      ]
    },
    {
      "cell_type": "markdown",
      "source": [
        "#kruskal test\n",
        "#H0: Both the groups medians are significantly identical\n",
        "#Ha: Both the groups medians are significantly different"
      ],
      "metadata": {
        "id": "xCdtRNYBBBNm"
      }
    },
    {
      "cell_type": "code",
      "source": [
        "p_value = kruskal(group1,group2)[1]\n",
        "print(\"Kruskal test p_value is: \", round(p_value,2))\n",
        "if p_value < 0.05:\n",
        "  print(\" Both the groups medians are significantly different\")\n",
        "else:\n",
        "  print(\"Both the groups medians are significantly identical\")"
      ],
      "metadata": {
        "colab": {
          "base_uri": "https://localhost:8080/"
        },
        "id": "SFOD4xO4BCmr",
        "outputId": "e76e2ebf-e583-423c-84f0-93c38a122587"
      },
      "execution_count": 18,
      "outputs": [
        {
          "output_type": "stream",
          "name": "stdout",
          "text": [
            "Kruskal test p_value is:  0.02\n",
            " Both the groups medians are significantly different\n"
          ]
        }
      ]
    },
    {
      "cell_type": "markdown",
      "source": [
        "Q3::In the loan.csv dataset, we wish to test the hypothesis that among all loan applicants who were rejected for a loan, the applicant income of the people with a credit history of 1 is significantly different from the applicant income of the people with a credit history of 0.\n",
        "\n",
        "To do so, first, define group1 as the people with a credit history of 0, and group2 as the people with a credit history of 1.\n",
        "\n",
        "Retrieve their Applicant Income information and drop the columns containing 'nan'.\n",
        "\n",
        "Next, apply the Krushkal test to check whether the mean applicant income of the two groups is significantly different, and the Levene test to check if the variance in the applicant income for the two groups is significantly different. What are the results of these tests, and what interpretations can you draw?\n",
        "\n",
        "Note: Assume a significance level of 5%."
      ],
      "metadata": {
        "id": "fYPOolIlBgaO"
      }
    },
    {
      "cell_type": "code",
      "source": [
        "group1 = data[ (data[\"Credit_History\"] == 1) & (data[\"Loan_Status\"] == \"N\") ][\"ApplicantIncome\"]\n",
        "group2 = data[ (data[\"Credit_History\"] == 0) & (data[\"Loan_Status\"] == \"N\") ][\"ApplicantIncome\"]"
      ],
      "metadata": {
        "id": "hCLpHR21Bio9"
      },
      "execution_count": 19,
      "outputs": []
    },
    {
      "cell_type": "code",
      "source": [
        "group1 = group1.dropna()\n",
        "group2 = group2.dropna()\n"
      ],
      "metadata": {
        "id": "zAr9o9N4CGYB"
      },
      "execution_count": 20,
      "outputs": []
    },
    {
      "cell_type": "code",
      "source": [
        "print(\"Number of group1 datapoints\", len(group1))\n",
        "print(\"Variance of group1:\",round(np.var(group1),2))\n",
        "print(\"Number of group2 datapoints\", len(group2))\n",
        "print(\"Variance of group2:\",round(np.var(group2),2))"
      ],
      "metadata": {
        "colab": {
          "base_uri": "https://localhost:8080/"
        },
        "id": "GN_YoUmCCI6k",
        "outputId": "760489ae-1796-4227-85d3-3414e295a39b"
      },
      "execution_count": 21,
      "outputs": [
        {
          "output_type": "stream",
          "name": "stdout",
          "text": [
            "Number of group1 datapoints 97\n",
            "Variance of group1: 24490818.79\n",
            "Number of group2 datapoints 82\n",
            "Variance of group2: 78088900.62\n"
          ]
        }
      ]
    },
    {
      "cell_type": "code",
      "source": [
        "levene_p_value = levene(group1, group2, center='trimmed')[1]\n",
        "print(\"levene test p-value\", round(levene_p_value,3))"
      ],
      "metadata": {
        "colab": {
          "base_uri": "https://localhost:8080/"
        },
        "id": "VBJCp3EHCOCx",
        "outputId": "ad933652-67af-4a29-993f-ea79b9952cc7"
      },
      "execution_count": 22,
      "outputs": [
        {
          "output_type": "stream",
          "name": "stdout",
          "text": [
            "levene test p-value 0.028\n"
          ]
        }
      ]
    },
    {
      "cell_type": "code",
      "source": [
        "krushkal_p_value = kruskal(group1, group2)[1]\n",
        "print(\"kruskal: \", round(krushkal_p_value, 3))"
      ],
      "metadata": {
        "colab": {
          "base_uri": "https://localhost:8080/"
        },
        "id": "IbfeOv_gCRN8",
        "outputId": "ec603934-e176-4483-f2ca-e15c195b089e"
      },
      "execution_count": 23,
      "outputs": [
        {
          "output_type": "stream",
          "name": "stdout",
          "text": [
            "kruskal:  0.152\n"
          ]
        }
      ]
    },
    {
      "cell_type": "markdown",
      "source": [
        "Q4:: In the loan.csv dataset, we wish to test the hypothesis that among all loan applicants who were rejected for a loan, applicants with a credit history of 1 are more likely to be female.\n",
        "\n",
        "Use a chi-square test to verify this claim (Ensure that you drop all nan rows), and report your interpretation.\n",
        "\n",
        "Note: Use a significance level of 5%."
      ],
      "metadata": {
        "id": "5Iw2yLDRCdXx"
      }
    },
    {
      "cell_type": "code",
      "source": [
        "from scipy.stats import chi2_contingency"
      ],
      "metadata": {
        "id": "EO1HE0phDjQT"
      },
      "execution_count": 28,
      "outputs": []
    },
    {
      "cell_type": "code",
      "source": [
        "data1= data[(data['Loan_Status'] == 'N')]"
      ],
      "metadata": {
        "id": "jkmSoj5rCgjN"
      },
      "execution_count": 24,
      "outputs": []
    },
    {
      "cell_type": "markdown",
      "source": [
        "Null hypothesis (H0): the features are independent.\n",
        "Alternate hypothesis (Ha) : the features are dependent."
      ],
      "metadata": {
        "id": "JxaSs4jvDPq2"
      }
    },
    {
      "cell_type": "code",
      "source": [
        "contingency = pd.crosstab(data1['Gender'], data1['Credit_History'])"
      ],
      "metadata": {
        "id": "tmD33sF9DQcn"
      },
      "execution_count": 26,
      "outputs": []
    },
    {
      "cell_type": "code",
      "source": [
        "print('\\n',contingency,'\\n')\n",
        "p_value = chi2_contingency(contingency)[1]\n",
        "print('p-value:',round(p_value,2))\n",
        "if p_value > 0.05:\n",
        " print('Since p_value > 0.05 we fail to reject the null hypothesis.')\n",
        "else:\n",
        " print('Since p_value < 0.05 we reject the null hypothesis.')"
      ],
      "metadata": {
        "colab": {
          "base_uri": "https://localhost:8080/"
        },
        "id": "g5fTZCOzDcO-",
        "outputId": "bd61826a-9a0e-44b9-d73e-aa318d47056b"
      },
      "execution_count": 29,
      "outputs": [
        {
          "output_type": "stream",
          "name": "stdout",
          "text": [
            "\n",
            " Credit_History  0.0  1.0\n",
            "Gender                  \n",
            "Female           16   20\n",
            "Male             63   75 \n",
            "\n",
            "p-value: 1.0\n",
            "Since p_value > 0.05 we fail to reject the null hypothesis.\n"
          ]
        }
      ]
    },
    {
      "cell_type": "code",
      "source": [
        "Q5:: In the loan.csv dataset, we observed that among all applicants with a credit history of 1, 272 males and 53 females were granted loans, while 66 males and 19 females were not granted loans.\n",
        "\n",
        "We suspect a gender bias towards males here, and wish to test if there is any statistical significance to our claim.\n",
        "\n",
        "Perform a chi-square test to do so, and report your interpretations.\n",
        "\n",
        "Note: Assume a significance level of 5%."
      ],
      "metadata": {
        "id": "FLlJtWXOD6ik"
      },
      "execution_count": null,
      "outputs": []
    },
    {
      "cell_type": "code",
      "source": [
        "chn = data[(data[\"Credit_History\"] == 1)]"
      ],
      "metadata": {
        "id": "1DUXkWA5D9WA"
      },
      "execution_count": 30,
      "outputs": []
    },
    {
      "cell_type": "code",
      "source": [
        "chn = chn.dropna()"
      ],
      "metadata": {
        "id": "LhZzmfjbELIj"
      },
      "execution_count": 31,
      "outputs": []
    },
    {
      "cell_type": "code",
      "source": [
        "contingency = pd.crosstab(chn['Gender'], chn['Loan_Status'])\n",
        "print('Contingency table',contingency)"
      ],
      "metadata": {
        "colab": {
          "base_uri": "https://localhost:8080/"
        },
        "id": "QOZiEkXXENVu",
        "outputId": "93874f7a-541c-442c-9d63-011bdd39a5c9"
      },
      "execution_count": 32,
      "outputs": [
        {
          "output_type": "stream",
          "name": "stdout",
          "text": [
            "Contingency table Loan_Status   N    Y\n",
            "Gender              \n",
            "Female       19   53\n",
            "Male         66  272\n"
          ]
        }
      ]
    },
    {
      "cell_type": "code",
      "source": [
        "p_value=chi2_contingency(contingency)[1]\n",
        "print('p-value:', round(p_value,2))\n",
        "\n",
        "if p_value > 0.05:\n",
        " print('Since p_value > 0.05, we fail to reject the null hypothesis.')\n",
        "else:\n",
        " print('Since p_value < 0.05, we reject the null hypothesis.')"
      ],
      "metadata": {
        "colab": {
          "base_uri": "https://localhost:8080/"
        },
        "id": "U0L4LDlDES8s",
        "outputId": "b63d7364-036b-4ebb-d751-fbd478240aca"
      },
      "execution_count": 35,
      "outputs": [
        {
          "output_type": "stream",
          "name": "stdout",
          "text": [
            "p-value: 0.25\n",
            "Since p_value > 0.05, we fail to reject the null hypothesis.\n"
          ]
        }
      ]
    }
  ]
}